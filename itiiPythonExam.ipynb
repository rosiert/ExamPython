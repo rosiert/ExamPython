{
 "cells": [
  {
   "cell_type": "markdown",
   "metadata": {},
   "source": [
    "# Devoir Python\n",
    "\n",
    "Vous devez rendre votre devoir sur GitHub.\n",
    "Vous avez le droit a tout vos documents et a internet\n",
    "\n",
    "1. votre depot doit etre privé\n",
    "2. vous devez inviter comme colaborateur votre chargé de TD/TP\n",
    "3. Seul le dernier commit avant la fin de la séance sera corrigé.\n"
   ]
  },
  {
   "cell_type": "markdown",
   "metadata": {},
   "source": [
    "Ex 1: Integrale de Romberg\n",
    "\n",
    "Ecrire une fonction integ_romberg(f, a, b, epsilon=1e-6) permettant de calculer l’intégrale numérique de la fonction f entre les bornes a et b avec une précision epsilon selon la méthode de Romberg (https://fr.wikipedia.org/wiki/M%C3%A9thode_de_Romberg).\n",
    "\n",
    "Il s’agit d’une méthode qui permet d’améliorer les méthodes usuelles de calcul numérique des intégrales, comme la méthode des Trapèzes.\n",
    "On montre qu’en combinant judicieusement les valeurs obtenues par la méthode des Trapèzes pour différentes subdivisons de l’intervalle d’intégration, on augmente l’ordre de convergence (sa vitesse de convergence). \n"
   ]
  },
  {
   "cell_type": "code",
   "execution_count": 92,
   "metadata": {},
   "outputs": [
    {
     "name": "stdout",
     "output_type": "stream",
     "text": [
      "La valeur de l'intégrale entre 1 et 3 est de : 24.0\n"
     ]
    },
    {
     "data": {
      "text/plain": [
       "24.0"
      ]
     },
     "execution_count": 92,
     "metadata": {},
     "output_type": "execute_result"
    }
   ],
   "source": [
    "from scipy import integrate\n",
    "\n",
    "def integ_romberg(f, a, b, epsilon):\n",
    "    result=integrate.romberg(f, a, b, args=(), tol=epsilon, rtol=epsilon, show=False, divmax=10, vec_func=False)\n",
    "    print(\"La valeur de l'intégrale entre {} et {} est de : {}\".format(a,b,result))\n",
    "    return result\n",
    "\n",
    "f = lambda x : x**3+2\n",
    "epsilon=1e-6\n",
    "integ_romberg(f, 1, 3, epsilon)"
   ]
  },
  {
   "cell_type": "markdown",
   "metadata": {},
   "source": [
    "Ex 2: Équation d’état de l’eau à partir de la dynamique moléculaire\n",
    "\n",
    "Afin de modéliser les planètes de type Jupiter, Saturne, ou même des exo-planètes très massives (dites « super-Jupiters »), la connaissance de l’équation d’état des composants est nécessaire. Ces équations d’état doivent être valables jusqu’à plusieurs centaines de méga-bar ; autrement dit, celles-ci ne sont en aucun cas accessibles expérimentalement. On peut cependant obtenir une équation d’état numériquement à partir d’une dynamique moléculaire.\n",
    "\n",
    "Le principe est le suivant : on place dans une boite un certain nombre de particules régies par les équations microscopiques (Newton par exemple, ou même par des équations prenant en considération la mécanique quantique) puis on laisse celles-ci évoluer dans la boite ; on calcule à chaque pas de temps l’énergie interne à partir des intéractions électrostatiques et la pression à partir du tenseur des contraintes. On obtient en sortie l’évolution du système pour une densité fixée (par le choix de taille de la boite) et une température fixée (par un algorithme de thermostat que nous ne détaillerons pas ici).\n",
    "\n",
    "On se propose d’analyser quelques fichiers de sortie de tels calculs pour l’équation d’état de l’eau à très haute pression. Les fichiers de sortie sont disponibles ici; leur nom indique les conditions thermodynamiques correspondant au fichier, p.ex. 6000K_30gcc.out pour T=6000\n",
    "K et ρ=30 gcc. Le but est, pour chaque condition température-densité, d’extraire l’évolution de l’énergie et de la pression au cours du temps, puis d’en extraire la valeur moyenne ainsi que les fluctuations. Il arrive souvent que l’état initial choisi pour le système ne corresponde pas à son état d’équilibre, et qu’il faille donc « jeter » les quelques pas de temps en début de simulation qui correspondent à cette relaxation du système. Pour savoir combien de temps prend cette relaxation, il sera utile de tracer l’évolution au cours du temps de la pression et l’énergie pour quelques simulations. Une fois l’équation d’état P(ρ,T) et E(ρ,T) extraite, on pourra tracer le réseau d’isothermes."
   ]
  },
  {
   "cell_type": "code",
   "execution_count": 106,
   "metadata": {
    "scrolled": true
   },
   "outputs": [
    {
     "data": {
      "image/png": "[encoded data removed]",
      "text/plain": [
       "<Figure size 432x288 with 2 Axes>"
      ]
     },
     "metadata": {
      "needs_background": "light"
     },
     "output_type": "display_data"
    }
   ],
   "source": [
    "import numpy as N\n",
    "import matplotlib.pyplot as P\n",
    "import pytest                    \n",
    "\n",
    "class Simulation:\n",
    "    def __init__(self, temp, dens, path):\n",
    "        self.temp = float(temp)\n",
    "        self.dens = float(dens)\n",
    "        tmp = N.loadtxt(path, skiprows=1).T\n",
    "        self.pot = tmp[0]\n",
    "        self.kin = tmp[1]\n",
    "        self.tot = self.pot + self.kin\n",
    "        self.press = tmp[2]\n",
    "\n",
    "    def __str__(self):\n",
    "        return \"Simulation at {:.0f} g/cc and {:.0f} K ; {:d} timesteps\". \\\n",
    "            format(self.dens, self.temp, len(self.pot))\n",
    "\n",
    "    def thermo(self, skipSteps=0):\n",
    "        return {'T': self.temp,\n",
    "                'rho': self.dens,\n",
    "                'E': self.tot[skipSteps:].mean(),\n",
    "                'P': self.press[skipSteps:].mean(),\n",
    "                'dE': self.tot[skipSteps:].std(),\n",
    "                'dP': self.press[skipSteps:].std()}\n",
    "\n",
    "    def plot(self, skipSteps=0):\n",
    "        fig, (axen, axpress) = P.subplots(2, sharex=True)\n",
    "        axen.plot(list(range(skipSteps, len(self.tot))), self.tot[skipSteps:],\n",
    "                  'rd--')\n",
    "        axen.set_title(\"Internal energy (Ha)\")\n",
    "        axpress.plot(list(range(skipSteps, len(self.press))), self.press[skipSteps:],\n",
    "                     'rd--')\n",
    "        axpress.set_title(\"Pressure (GPa)\")\n",
    "        axpress.set_xlabel(\"Timesteps\")\n",
    "\n",
    "        P.show()\n",
    "\n",
    "if __name__ == '__main__':\n",
    "    \n",
    "    temps = [6000, 20000, 50000]    #temperatures\n",
    "    couleurs = {6000: 'r', 20000: 'b', 50000: 'g'}\n",
    "    densité = [7, 15, 25, 30]  #densités\n",
    "    keys = ['T', 'rho', 'E', 'dE', 'P', 'dP']\n",
    "    eos = dict.fromkeys(keys, N.zeros(0))\n",
    "\n",
    "    for t, rho in [(t, rho) for t in temps for rho in densité]:\n",
    "        filenm = \"C:\\\\Users\\\\rosiert\\\\Desktop\\\\ExamPython\\\\outputs\\\\{}K_{:0>2d}gcc.out\".format(t, rho)\n",
    "        s = Simulation(t, rho, filenm)\n",
    "        for key in keys:\n",
    "            eos[key] = N.append(eos[key], s.thermo(nsteps)[key])\n",
    "\n",
    "    fig, (axen, axpress) = P.subplots(2, sharex=True)\n",
    "    fig.suptitle(\"Équation d’état de l’eau\", size='x-large')\n",
    "    axen.set_title(\"Energie\")\n",
    "    axen.set_ylabel(\"U / NkT\")\n",
    "    axpress.set_title(\"Pression\")\n",
    "    axpress.set_ylabel(\"P / nkT\")\n",
    "    axpress.set_xlabel(\"rho (g/cc)\")\n",
    "    for t in temps:\n",
    "        sel = eos['T'] == t\n",
    "        axen.errorbar(x=eos['rho'][sel], y=eos['E'][sel] / k_B / t,\n",
    "                      yerr=eos['dE'][sel] / k_B / t, fmt=couleurs[t] + '-')\n",
    "        axpress.errorbar(x=eos['rho'][sel],\n",
    "                         y=eos['P'][sel] / eos['rho'][sel] / nk_GPa / t,\n",
    "                         yerr=eos['dP'][sel] / eos['rho'][sel] / nk_GPa / t,\n",
    "                         fmt=couleurs[t] + '-',\n",
    "                         label=\"{} K\".format(t))\n",
    "    axpress.legend(loc='best')\n",
    "    P.show()"
   ]
  },
  {
   "cell_type": "markdown",
   "metadata": {},
   "source": [
    "Ex 3: Le problème du voyageur de commerce\n",
    "\n",
    "Le problème du voyageur de commerce est un problème d’optimisation consistant à déterminer le plus court chemin reliant un ensemble de destinations. Il n’existe pas d’algorithme donnant la solution optimale en un temps raisonnable (problème NP-complet), mais l’on peut chercher à déterminer des solutions approchées. On va se placer ici dans le cas d’un livreur devant desservir une seule fois chacune desndestinations d’une ville américaine où les rues sont agencées en réseau carré. \n",
    "\n",
    "On utilise la « distance deManhattan »  entre deux points 𝐴(𝑥𝐴,𝑦𝐴) et 𝐵(𝑥𝐵,𝑦𝐵) : 𝑑(𝐴,𝐵) =|𝑥𝐵−𝑥𝐴|+|𝑦𝐵−𝑦𝐴|.\n",
    "\n",
    "En outre, on se place dans le cas où les coordonnées des destinations sont entières, comprises entre 0 (inclus) et TAILLE = 50 (exclus). Deux destinations peuvent éventuellement avoir les mêmes coordonnées. Les instructions suivantes doivent permettre de définir les classes nécessaires (Ville et Trajet) et de développer un algorithme approché (heuristiques) : l’algorithme du plus proche voisin. \n",
    "\n",
    "Seules la librairie standard et la librairie numpy sont utilisables si nécessaire. Implementer les classes et methodes suivante:\n",
    "\n",
    "\n",
    "Classe Ville:\n",
    "* __init__(): initialisation d’une ville sans destination.\n",
    "* aleatoire(n): création de n destinations aléatoires.\n",
    "* nb_trajet(): retourne le nombre total (entier) de trajets :(𝑛−1)!/2(utilisermath.factorial()).\n",
    "* distance(i, j): retourne la distance (Manhattan) entre les deux destinations de numéro i et j\n",
    "\n",
    "\n",
    "Classe Trajet:\n",
    "* __init__(ville, etapes=None): initialisation sur une ville. Si la liste etapes n’est pas spécifiée, le trajet par défaut est celui suivant les destinations de ville.\n",
    "* longueur(): retourne la longueur totale du trajetbouclé(i.e. revenant à son point de départ).\n",
    "\n",
    "\n",
    "Plus proche voisin:\n",
    "* Ville.plus_proche(i, exclus=[]): retourne la destination la plus proche de la destinationi(au sens de Ville.distance()), hors les destinations de la liste exclus\n",
    "* Ville.trajet_voisins(depart=0): retourne un Trajet déterminé selon l’heuristique des plus proches voisins (i.e. l’étape suivante est la destination la plus proche hors les destinations déjà visitées) en partant de l’étape initiale depart\n",
    "\n",
    "Optimisation:\n",
    "* Proposer un algorithme qui propose une meilleur alternative au \"plus proche voisin\".\n",
    "\n",
    "Interface:\n",
    "* Ville.figure(trajet=None): Afficher le plande la ville et le trajet obtenue (utiliser matplotlib.step()pour des trajets de type « Manhattan »)"
   ]
  },
  {
   "cell_type": "code",
   "execution_count": 105,
   "metadata": {},
   "outputs": [
    {
     "name": "stdout",
     "output_type": "stream",
     "text": [
      "Ville: 0 avec comme destinations (0 trajets)\n",
      "Ville: 20 avec comme destinations (60822550204416000 trajets)\n"
     ]
    }
   ],
   "source": [
    "import numpy as N\n",
    "\n",
    "class Ville(object):\n",
    "    def __init__(self):\n",
    "       self.destinations = N.array([]).reshape(-1, 2)\n",
    "\n",
    "    def __str__(self):\n",
    "        return \"Ville: {} avec comme destinations ({} trajets)\".format(len(self.destinations), self.nb_trajets())\n",
    "\n",
    "    def aleatoire(self, n=20):\n",
    "        self.destinations = N.random.randint(TAILLE, size=(n, 2))\n",
    "\n",
    "    def nb_trajets(self):\n",
    "        ndest = len(self.destinations)\n",
    "        if ndest > 2:\n",
    "            return int(math.factorial(ndest - 1) / 2)\n",
    "        elif ndest > 0:\n",
    "            return 1\n",
    "        else:\n",
    "            return 0\n",
    "\n",
    "    def distance(self, i, j):\n",
    "        return N.abs(self.destinations[i] - self.destinations[j]).sum()\n",
    "\n",
    "    def plus_proche(self, i, exclus=[]):\n",
    "        voisins = [ j for j in range(len(self.destinations))\n",
    "                    if j != i and j not in exclus ]\n",
    "        distances = [ self.distance(i, j) for j in voisins ]\n",
    "\n",
    "        return voisins[N.argmin(distances)]\n",
    "\n",
    "    def trajet_voisins(self, depart=0):\n",
    "        ndest = len(self.destinations)\n",
    "        if depart is None:     \n",
    "            trajets = [ self.trajet_voisins(depart=i) for i in range(ndest) ]\n",
    "            longueurs = [ t.longueur() for t in trajets ]\n",
    "\n",
    "            return trajets[N.argmin(longueurs)]\n",
    "        else:                  \n",
    "            etapes = [depart]\n",
    "            while len(etapes) < ndest:\n",
    "                i = etapes[-1]\n",
    "                j = self.plus_proche(i, exclus=etapes[:-1])\n",
    "                etapes.append(j)\n",
    "\n",
    "            return Trajet(self, etapes)\n",
    "\n",
    "class Trajet(object):\n",
    "    def __init__(self, ville, etapes=None):\n",
    "        assert isinstance(ville, Ville)\n",
    "        self.ville = ville\n",
    "        if etapes is None:                     \n",
    "            self.etapes = N.arange(len(self.ville.destinations))\n",
    "        else:\n",
    "            self.etapes = N.array(etapes)\n",
    "\n",
    "    def __str__(self):\n",
    "        return \"trajet {} de longueur= {} : {}\".format(len(self.etapes), self.longueur(), self.etapes)\n",
    "\n",
    "    def longueur(self):\n",
    "        long = sum( self.ville.distance(self.etapes[i], self.etapes[i+1])\n",
    "                 for i in range(len(self.etapes)-1))\n",
    "        long += self.ville.distance(self.etapes[-1], self.etapes[0])\n",
    "\n",
    "        return long\n",
    "\n",
    "Lyon = Ville()\n",
    "print(Lyon)\n",
    "Lyon.aleatoire()\n",
    "print(Lyon)"
   ]
  },
  {
   "cell_type": "code",
   "execution_count": null,
   "metadata": {},
   "outputs": [],
   "source": []
  }
 ],
 "metadata": {
  "kernelspec": {
   "display_name": "Python 3",
   "language": "python",
   "name": "python3"
  },
  "language_info": {
   "codemirror_mode": {
    "name": "ipython",
    "version": 3
   },
   "file_extension": ".py",
   "mimetype": "text/x-python",
   "name": "python",
   "nbconvert_exporter": "python",
   "pygments_lexer": "ipython3",
   "version": "3.7.0"
  }
 },
 "nbformat": 4,
 "nbformat_minor": 4
}
